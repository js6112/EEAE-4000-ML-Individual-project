{
 "cells": [
  {
   "cell_type": "markdown",
   "id": "f4d5811a",
   "metadata": {},
   "source": [
    "## EAEEE4000_001_Final Project_Third Model Code --- Using LSTM\n",
    "#### Name: Jiuhe(Rebecca) Shi (UNI: js6112)\n",
    "#### Project Title: Prediction of Ocen Partial Pressure of CO2 (pCO2)  by Using XGBoost, Random Forest and LSTM\n",
    "#### Date: December, 2022"
   ]
  },
  {
   "cell_type": "markdown",
   "id": "0803c3f6",
   "metadata": {},
   "source": [
    "### LSTM Background"
   ]
  },
  {
   "cell_type": "markdown",
   "id": "21980d12",
   "metadata": {},
   "source": [
    "Long short-term memory (LSTM) is an artificial neural network used in the fields of artificial intelligence and deep learning. Unlike standard feedforward neural networks, LSTM has feedback connections. Such a recurrent neural network (RNN) can process not only single data points (such as images), but also entire sequences of data (such as speech or video). \n",
    "\n",
    "The name of LSTM refers to the analogy that a standard RNN has both \"long-term memory\" and \"short-term memory\". The connection weights and biases in the network change once per episode of training, analogous to how physiological changes in synaptic strengths store long-term memories; the activation patterns in the network change once per time-step, analogous to how the moment-to-moment change in electric firing patterns in the brain store short-term memories. The LSTM architecture aims to provide a short-term memory for RNN that can last thousands of timesteps, thus \"long short-term memory\".\n",
    "\n",
    "Reference - [`LSTM` ](http://colah.github.io/posts/2015-08-Understanding-LSTMs/).\n",
    "![RF](images/LSTM_Principle.jpg)"
   ]
  },
  {
   "cell_type": "markdown",
   "id": "8e6603cc",
   "metadata": {},
   "source": [
    "### Load all packages used in this project"
   ]
  },
  {
   "cell_type": "code",
   "execution_count": 1,
   "id": "69775ff8",
   "metadata": {},
   "outputs": [],
   "source": [
    "# packages used in this tutorial \n",
    "import xarray as xr\n",
    "import numpy as np\n",
    "import time\n",
    "import pandas as pd\n",
    "import matplotlib.pyplot as plt\n",
    "import tensorflow as tf\n",
    "import joblib\n",
    "from tensorflow.keras.models import Model, load_model\n",
    "from matplotlib import pyplot\n",
    "from datetime import datetime\n",
    "# LSTM Model\n",
    "from sklearn.preprocessing import MinMaxScaler\n",
    "from sklearn.model_selection import train_test_split\n",
    "# Evaluation metrics\n",
    "from sklearn import metrics\n",
    "from sklearn.metrics import mean_squared_error\n",
    "from sklearn.metrics import mean_absolute_error\n",
    "# pretreatment of data in time series, also with scale\n",
    "from lstm_utils import get_lstm_data\n",
    "%matplotlib inline\n",
    "%config InlineBackend.figure_format = 'retina'"
   ]
  },
  {
   "cell_type": "markdown",
   "id": "a3f4c666",
   "metadata": {},
   "source": [
    "### Open & Clean Dataset "
   ]
  },
  {
   "cell_type": "code",
   "execution_count": 2,
   "id": "5aba3f7c",
   "metadata": {},
   "outputs": [],
   "source": [
    "data = xr.open_dataset('/Users/rebecca/Downloads/MERGED-DATA_1x1_mon_198201-202112.nc')\n",
    "data = data.sel(time=slice('1982', '2021')).load()\n",
    "data_pd = data.to_dataframe()"
   ]
  },
  {
   "cell_type": "code",
   "execution_count": 3,
   "id": "c977f501",
   "metadata": {},
   "outputs": [
    {
     "data": {
      "text/html": [
       "<div>\n",
       "<style scoped>\n",
       "    .dataframe tbody tr th:only-of-type {\n",
       "        vertical-align: middle;\n",
       "    }\n",
       "\n",
       "    .dataframe tbody tr th {\n",
       "        vertical-align: top;\n",
       "    }\n",
       "\n",
       "    .dataframe thead th {\n",
       "        text-align: right;\n",
       "    }\n",
       "</style>\n",
       "<table border=\"1\" class=\"dataframe\">\n",
       "  <thead>\n",
       "    <tr style=\"text-align: right;\">\n",
       "      <th></th>\n",
       "      <th></th>\n",
       "      <th></th>\n",
       "      <th>fco2_ave_unwtd</th>\n",
       "      <th>mld</th>\n",
       "      <th>chl</th>\n",
       "      <th>mask</th>\n",
       "      <th>sss</th>\n",
       "      <th>sst</th>\n",
       "      <th>atm_pco2_uatm</th>\n",
       "    </tr>\n",
       "    <tr>\n",
       "      <th>time</th>\n",
       "      <th>lat</th>\n",
       "      <th>lon</th>\n",
       "      <th></th>\n",
       "      <th></th>\n",
       "      <th></th>\n",
       "      <th></th>\n",
       "      <th></th>\n",
       "      <th></th>\n",
       "      <th></th>\n",
       "    </tr>\n",
       "  </thead>\n",
       "  <tbody>\n",
       "    <tr>\n",
       "      <th rowspan=\"5\" valign=\"top\">1982-01-15</th>\n",
       "      <th>-0.5</th>\n",
       "      <th>137.5</th>\n",
       "      <td>320.476288</td>\n",
       "      <td>34.367130</td>\n",
       "      <td>0.213072</td>\n",
       "      <td>1.0</td>\n",
       "      <td>34.227975</td>\n",
       "      <td>29.022418</td>\n",
       "      <td>331.245001</td>\n",
       "    </tr>\n",
       "    <tr>\n",
       "      <th>0.5</th>\n",
       "      <th>137.5</th>\n",
       "      <td>336.389130</td>\n",
       "      <td>33.478939</td>\n",
       "      <td>0.130572</td>\n",
       "      <td>1.0</td>\n",
       "      <td>34.261681</td>\n",
       "      <td>29.269918</td>\n",
       "      <td>331.245001</td>\n",
       "    </tr>\n",
       "    <tr>\n",
       "      <th>1.5</th>\n",
       "      <th>137.5</th>\n",
       "      <td>342.459686</td>\n",
       "      <td>39.543957</td>\n",
       "      <td>0.126997</td>\n",
       "      <td>1.0</td>\n",
       "      <td>34.302076</td>\n",
       "      <td>29.666697</td>\n",
       "      <td>331.245001</td>\n",
       "    </tr>\n",
       "    <tr>\n",
       "      <th rowspan=\"2\" valign=\"top\">2.5</th>\n",
       "      <th>136.5</th>\n",
       "      <td>343.751190</td>\n",
       "      <td>23.772850</td>\n",
       "      <td>0.133725</td>\n",
       "      <td>1.0</td>\n",
       "      <td>34.300365</td>\n",
       "      <td>29.420000</td>\n",
       "      <td>331.245001</td>\n",
       "    </tr>\n",
       "    <tr>\n",
       "      <th>137.5</th>\n",
       "      <td>344.493958</td>\n",
       "      <td>45.244648</td>\n",
       "      <td>0.128011</td>\n",
       "      <td>1.0</td>\n",
       "      <td>34.309180</td>\n",
       "      <td>29.702498</td>\n",
       "      <td>331.245001</td>\n",
       "    </tr>\n",
       "    <tr>\n",
       "      <th>...</th>\n",
       "      <th>...</th>\n",
       "      <th>...</th>\n",
       "      <td>...</td>\n",
       "      <td>...</td>\n",
       "      <td>...</td>\n",
       "      <td>...</td>\n",
       "      <td>...</td>\n",
       "      <td>...</td>\n",
       "      <td>...</td>\n",
       "    </tr>\n",
       "    <tr>\n",
       "      <th rowspan=\"5\" valign=\"top\">2021-12-15</th>\n",
       "      <th rowspan=\"3\" valign=\"top\">44.5</th>\n",
       "      <th>334.5</th>\n",
       "      <td>377.762512</td>\n",
       "      <td>129.950058</td>\n",
       "      <td>0.180022</td>\n",
       "      <td>1.0</td>\n",
       "      <td>35.823172</td>\n",
       "      <td>16.412507</td>\n",
       "      <td>404.900235</td>\n",
       "    </tr>\n",
       "    <tr>\n",
       "      <th>341.5</th>\n",
       "      <td>382.966675</td>\n",
       "      <td>109.925339</td>\n",
       "      <td>0.469160</td>\n",
       "      <td>1.0</td>\n",
       "      <td>35.762420</td>\n",
       "      <td>15.100598</td>\n",
       "      <td>404.900235</td>\n",
       "    </tr>\n",
       "    <tr>\n",
       "      <th>342.5</th>\n",
       "      <td>386.497375</td>\n",
       "      <td>84.819145</td>\n",
       "      <td>0.402202</td>\n",
       "      <td>1.0</td>\n",
       "      <td>35.757088</td>\n",
       "      <td>15.084283</td>\n",
       "      <td>404.900235</td>\n",
       "    </tr>\n",
       "    <tr>\n",
       "      <th>45.5</th>\n",
       "      <th>348.5</th>\n",
       "      <td>395.024994</td>\n",
       "      <td>102.078323</td>\n",
       "      <td>0.617956</td>\n",
       "      <td>1.0</td>\n",
       "      <td>35.662514</td>\n",
       "      <td>14.092825</td>\n",
       "      <td>404.900235</td>\n",
       "    </tr>\n",
       "    <tr>\n",
       "      <th>46.5</th>\n",
       "      <th>350.5</th>\n",
       "      <td>396.402771</td>\n",
       "      <td>100.040131</td>\n",
       "      <td>0.241002</td>\n",
       "      <td>1.0</td>\n",
       "      <td>35.623573</td>\n",
       "      <td>13.716935</td>\n",
       "      <td>404.900235</td>\n",
       "    </tr>\n",
       "  </tbody>\n",
       "</table>\n",
       "<p>252850 rows × 7 columns</p>\n",
       "</div>"
      ],
      "text/plain": [
       "                        fco2_ave_unwtd         mld       chl  mask        sss  \\\n",
       "time       lat   lon                                                            \n",
       "1982-01-15 -0.5  137.5      320.476288   34.367130  0.213072   1.0  34.227975   \n",
       "            0.5  137.5      336.389130   33.478939  0.130572   1.0  34.261681   \n",
       "            1.5  137.5      342.459686   39.543957  0.126997   1.0  34.302076   \n",
       "            2.5  136.5      343.751190   23.772850  0.133725   1.0  34.300365   \n",
       "                 137.5      344.493958   45.244648  0.128011   1.0  34.309180   \n",
       "...                                ...         ...       ...   ...        ...   \n",
       "2021-12-15  44.5 334.5      377.762512  129.950058  0.180022   1.0  35.823172   \n",
       "                 341.5      382.966675  109.925339  0.469160   1.0  35.762420   \n",
       "                 342.5      386.497375   84.819145  0.402202   1.0  35.757088   \n",
       "            45.5 348.5      395.024994  102.078323  0.617956   1.0  35.662514   \n",
       "            46.5 350.5      396.402771  100.040131  0.241002   1.0  35.623573   \n",
       "\n",
       "                              sst  atm_pco2_uatm  \n",
       "time       lat   lon                              \n",
       "1982-01-15 -0.5  137.5  29.022418     331.245001  \n",
       "            0.5  137.5  29.269918     331.245001  \n",
       "            1.5  137.5  29.666697     331.245001  \n",
       "            2.5  136.5  29.420000     331.245001  \n",
       "                 137.5  29.702498     331.245001  \n",
       "...                           ...            ...  \n",
       "2021-12-15  44.5 334.5  16.412507     404.900235  \n",
       "                 341.5  15.100598     404.900235  \n",
       "                 342.5  15.084283     404.900235  \n",
       "            45.5 348.5  14.092825     404.900235  \n",
       "            46.5 350.5  13.716935     404.900235  \n",
       "\n",
       "[252850 rows x 7 columns]"
      ]
     },
     "execution_count": 3,
     "metadata": {},
     "output_type": "execute_result"
    }
   ],
   "source": [
    "data_clean = data_pd.dropna()\n",
    "data_clean"
   ]
  },
  {
   "cell_type": "markdown",
   "id": "ab60e94b",
   "metadata": {},
   "source": [
    "### Split Data into Training and Testing "
   ]
  },
  {
   "cell_type": "code",
   "execution_count": 4,
   "id": "64dc9ed4",
   "metadata": {},
   "outputs": [
    {
     "name": "stdout",
     "output_type": "stream",
     "text": [
      "(252850, 10, 6) (252850, 10, 1)\n",
      "X Train data size: (227565, 10, 6) and Y Train data size: (227565, 10, 1)\n",
      "X Test data size: (25285, 10, 6) and Y Test data size: (25285, 10, 1)\n"
     ]
    }
   ],
   "source": [
    "# Fetching time-series data\n",
    "X, Y = get_lstm_data(data_pd, 10, scale=False)\n",
    "print(X.shape, Y.shape)\n",
    "\n",
    "# Split the Data for training and testing\n",
    "X_t, Y_t =  X[:227565,:,:],  Y[:227565,:,:]\n",
    "\n",
    "X_te, Y_te =  X[227565:,:,:],  Y[227565:,:,:]\n",
    "\n",
    "print(\"X Train data size: {} and Y Train data size: {}\".format(X_t.shape, Y_t.shape))\n",
    "print(\"X Test data size: {} and Y Test data size: {}\".format(X_te.shape, Y_te.shape))"
   ]
  },
  {
   "cell_type": "code",
   "execution_count": 5,
   "id": "3e391502",
   "metadata": {},
   "outputs": [
    {
     "name": "stdout",
     "output_type": "stream",
     "text": [
      "(227565, 10, 6) (227565, 1)\n",
      "(25285, 10, 6) (25285, 1)\n"
     ]
    }
   ],
   "source": [
    "# Slicing the data \n",
    "X_train = X_t\n",
    "Y_train = Y_t[:,-1,:]\n",
    "print(X_train.shape, Y_train.shape)\n",
    "\n",
    "X_test = X_te\n",
    "Y_test = Y_te[:,-1,:]\n",
    "print(X_test.shape, Y_test.shape)"
   ]
  },
  {
   "cell_type": "markdown",
   "id": "2cf3c7e9",
   "metadata": {},
   "source": [
    "###  LSTM model Building and Training"
   ]
  },
  {
   "cell_type": "code",
   "execution_count": 6,
   "id": "64d243c3",
   "metadata": {},
   "outputs": [],
   "source": [
    "# set hyperparameters\n",
    "n_neuron       = 64\n",
    "activation     = 'relu'\n",
    "num_epochs     = 20\n",
    "learning_rate  = 0.01\n",
    "minibatch_size = 64"
   ]
  },
  {
   "cell_type": "code",
   "execution_count": 7,
   "id": "76389a5a",
   "metadata": {
    "scrolled": true
   },
   "outputs": [
    {
     "name": "stdout",
     "output_type": "stream",
     "text": [
      "Model: \"model\"\n",
      "_________________________________________________________________\n",
      " Layer (type)                Output Shape              Param #   \n",
      "=================================================================\n",
      " input_1 (InputLayer)        [(None, 10, 6)]           0         \n",
      "                                                                 \n",
      " lstm (LSTM)                 (None, 10, 64)            18176     \n",
      "                                                                 \n",
      " lstm_1 (LSTM)               (None, 64)                33024     \n",
      "                                                                 \n",
      " dense (Dense)               (None, 64)                4160      \n",
      "                                                                 \n",
      " dense_1 (Dense)             (None, 1)                 65        \n",
      "                                                                 \n",
      "=================================================================\n",
      "Total params: 55,425\n",
      "Trainable params: 55,425\n",
      "Non-trainable params: 0\n",
      "_________________________________________________________________\n"
     ]
    },
    {
     "name": "stderr",
     "output_type": "stream",
     "text": [
      "2022-12-23 16:40:37.077619: I tensorflow/core/platform/cpu_feature_guard.cc:193] This TensorFlow binary is optimized with oneAPI Deep Neural Network Library (oneDNN) to use the following CPU instructions in performance-critical operations:  SSE4.1 SSE4.2\n",
      "To enable them in other operations, rebuild TensorFlow with the appropriate compiler flags.\n"
     ]
    }
   ],
   "source": [
    "input_layer = tf.keras.layers.Input(shape=(X_train.shape[1],X_train.shape[2]))\n",
    "\n",
    "lstm_1 = tf.keras.layers.LSTM(64, return_sequences=True, activation=activation)(input_layer)\n",
    "lstm_2 = tf.keras.layers.LSTM(64, return_sequences=False, activation=activation)(lstm_1)\n",
    "# lstm_3 = tf.keras.layers.LSTM(n_neuron, return_sequences=False, activation=activation)(lstm_2)\n",
    "\n",
    "dense_1 = tf.keras.layers.Dense(n_neuron, activation=activation)(lstm_2)\n",
    "dense_2 = tf.keras.layers.Dense(Y_train.shape[-1], activation='linear')(dense_1)\n",
    "\n",
    "model = Model(inputs=input_layer, outputs=dense_2)\n",
    "model.summary()\n",
    "model.compile(loss='mse',optimizer=tf.keras.optimizers.Adam(learning_rate=learning_rate))"
   ]
  },
  {
   "cell_type": "code",
   "execution_count": 8,
   "id": "1930c6ae",
   "metadata": {},
   "outputs": [],
   "source": [
    "# Best model save name definition\n",
    "now = datetime.now()\n",
    "best_model = \"best_model/lstm_best_model-{}.h5\".format(now.strftime(\"%d-%m-%Y-%H:%M:%S\"))"
   ]
  },
  {
   "cell_type": "code",
   "execution_count": 9,
   "id": "8e9c1ad5",
   "metadata": {},
   "outputs": [
    {
     "name": "stdout",
     "output_type": "stream",
     "text": [
      "Epoch 1/20\n",
      "3197/3201 [============================>.] - ETA: 0s - loss: 2615.7983\n",
      "Epoch 1: loss improved from inf to 2614.46387, saving model to best_model/lstm_best_model-23-12-2022-16:40:37.h5\n",
      "3201/3201 [==============================] - 33s 10ms/step - loss: 2614.4639 - val_loss: 649.7983\n",
      "Epoch 2/20\n",
      "3197/3201 [============================>.] - ETA: 0s - loss: 1096.0338\n",
      "Epoch 2: loss improved from 2614.46387 to 1095.19946, saving model to best_model/lstm_best_model-23-12-2022-16:40:37.h5\n",
      "3201/3201 [==============================] - 31s 10ms/step - loss: 1095.1995 - val_loss: 1502.2388\n",
      "Epoch 3/20\n",
      "3201/3201 [==============================] - ETA: 0s - loss: 1001.2007\n",
      "Epoch 3: loss improved from 1095.19946 to 1001.20074, saving model to best_model/lstm_best_model-23-12-2022-16:40:37.h5\n",
      "3201/3201 [==============================] - 31s 10ms/step - loss: 1001.2007 - val_loss: 188.4173\n",
      "Epoch 4/20\n",
      "3200/3201 [============================>.] - ETA: 0s - loss: 330.8163\n",
      "Epoch 4: loss improved from 1001.20074 to 330.80621, saving model to best_model/lstm_best_model-23-12-2022-16:40:37.h5\n",
      "3201/3201 [==============================] - 31s 10ms/step - loss: 330.8062 - val_loss: 108.6192\n",
      "Epoch 5/20\n",
      "3200/3201 [============================>.] - ETA: 0s - loss: 207.6161\n",
      "Epoch 5: loss improved from 330.80621 to 207.61032, saving model to best_model/lstm_best_model-23-12-2022-16:40:37.h5\n",
      "3201/3201 [==============================] - 32s 10ms/step - loss: 207.6103 - val_loss: 98.5499\n",
      "Epoch 6/20\n",
      "3197/3201 [============================>.] - ETA: 0s - loss: 163.9021\n",
      "Epoch 6: loss improved from 207.61032 to 163.78833, saving model to best_model/lstm_best_model-23-12-2022-16:40:37.h5\n",
      "3201/3201 [==============================] - 30s 10ms/step - loss: 163.7883 - val_loss: 87.1171\n",
      "Epoch 7/20\n",
      "3199/3201 [============================>.] - ETA: 0s - loss: 141.3881\n",
      "Epoch 7: loss improved from 163.78833 to 141.36041, saving model to best_model/lstm_best_model-23-12-2022-16:40:37.h5\n",
      "3201/3201 [==============================] - 31s 10ms/step - loss: 141.3604 - val_loss: 108.0048\n",
      "Epoch 8/20\n",
      "3197/3201 [============================>.] - ETA: 0s - loss: 161.4168\n",
      "Epoch 8: loss did not improve from 141.36041\n",
      "3201/3201 [==============================] - 31s 10ms/step - loss: 161.3102 - val_loss: 198.9530\n",
      "Epoch 9/20\n",
      "3199/3201 [============================>.] - ETA: 0s - loss: 122.5262\n",
      "Epoch 9: loss improved from 141.36041 to 122.51325, saving model to best_model/lstm_best_model-23-12-2022-16:40:37.h5\n",
      "3201/3201 [==============================] - 32s 10ms/step - loss: 122.5133 - val_loss: 97.2974\n",
      "Epoch 10/20\n",
      "3201/3201 [==============================] - ETA: 0s - loss: 168.1461\n",
      "Epoch 10: loss did not improve from 122.51325\n",
      "3201/3201 [==============================] - 32s 10ms/step - loss: 168.1461 - val_loss: 109.9223\n",
      "Epoch 11/20\n",
      "3201/3201 [==============================] - ETA: 0s - loss: 126.7446\n",
      "Epoch 11: loss did not improve from 122.51325\n",
      "3201/3201 [==============================] - 32s 10ms/step - loss: 126.7446 - val_loss: 87.7221\n",
      "Epoch 12/20\n",
      "3199/3201 [============================>.] - ETA: 0s - loss: 111.3591\n",
      "Epoch 12: loss improved from 122.51325 to 111.35038, saving model to best_model/lstm_best_model-23-12-2022-16:40:37.h5\n",
      "3201/3201 [==============================] - 32s 10ms/step - loss: 111.3504 - val_loss: 93.9530\n",
      "Epoch 13/20\n",
      "3198/3201 [============================>.] - ETA: 0s - loss: 104.9592\n",
      "Epoch 13: loss improved from 111.35038 to 104.94173, saving model to best_model/lstm_best_model-23-12-2022-16:40:37.h5\n",
      "3201/3201 [==============================] - 32s 10ms/step - loss: 104.9417 - val_loss: 107.5841\n",
      "Epoch 14/20\n",
      "3198/3201 [============================>.] - ETA: 0s - loss: 104.5178\n",
      "Epoch 14: loss improved from 104.94173 to 104.53674, saving model to best_model/lstm_best_model-23-12-2022-16:40:37.h5\n",
      "3201/3201 [==============================] - 31s 10ms/step - loss: 104.5367 - val_loss: 105.7677\n",
      "Epoch 15/20\n",
      "3198/3201 [============================>.] - ETA: 0s - loss: 96.7658\n",
      "Epoch 15: loss improved from 104.53674 to 96.75137, saving model to best_model/lstm_best_model-23-12-2022-16:40:37.h5\n",
      "3201/3201 [==============================] - 31s 10ms/step - loss: 96.7514 - val_loss: 109.4629\n",
      "Epoch 16/20\n",
      "3199/3201 [============================>.] - ETA: 0s - loss: 93.3924\n",
      "Epoch 16: loss improved from 96.75137 to 93.38428, saving model to best_model/lstm_best_model-23-12-2022-16:40:37.h5\n",
      "3201/3201 [==============================] - 31s 10ms/step - loss: 93.3843 - val_loss: 109.8036\n",
      "Epoch 17/20\n",
      "3199/3201 [============================>.] - ETA: 0s - loss: 88.4259\n",
      "Epoch 17: loss improved from 93.38428 to 88.41828, saving model to best_model/lstm_best_model-23-12-2022-16:40:37.h5\n",
      "3201/3201 [==============================] - 32s 10ms/step - loss: 88.4183 - val_loss: 110.0768\n",
      "Epoch 18/20\n",
      "3200/3201 [============================>.] - ETA: 0s - loss: 84.7967\n",
      "Epoch 18: loss improved from 88.41828 to 84.79503, saving model to best_model/lstm_best_model-23-12-2022-16:40:37.h5\n",
      "3201/3201 [==============================] - 31s 10ms/step - loss: 84.7950 - val_loss: 108.3427\n",
      "Epoch 19/20\n",
      "3197/3201 [============================>.] - ETA: 0s - loss: 80.4334\n",
      "Epoch 19: loss improved from 84.79503 to 80.40144, saving model to best_model/lstm_best_model-23-12-2022-16:40:37.h5\n",
      "3201/3201 [==============================] - 31s 10ms/step - loss: 80.4014 - val_loss: 91.5322\n",
      "Epoch 20/20\n",
      "3198/3201 [============================>.] - ETA: 0s - loss: 77.1255\n",
      "Epoch 20: loss improved from 80.40144 to 77.11407, saving model to best_model/lstm_best_model-23-12-2022-16:40:37.h5\n",
      "3201/3201 [==============================] - 31s 10ms/step - loss: 77.1141 - val_loss: 117.3563\n",
      "Training time: 628.0832300186157\n"
     ]
    }
   ],
   "source": [
    "early_stop = tf.keras.callbacks.EarlyStopping(monitor='loss', patience=10)\n",
    "checkpoint = tf.keras.callbacks.ModelCheckpoint(best_model, monitor='loss', \n",
    "                                                verbose=True, save_best_only=True, save_weights_only=True)\n",
    "start = time.time()\n",
    "history = model.fit(X_train, Y_train, \n",
    "                        batch_size = minibatch_size,\n",
    "                        epochs = num_epochs,\n",
    "                        validation_split=0.1, verbose=1,\n",
    "                        callbacks=[early_stop, checkpoint],\n",
    "                        shuffle=False)\n",
    "print (\"Training time: {}\".format(time.time() - start))"
   ]
  },
  {
   "cell_type": "code",
   "execution_count": null,
   "id": "64328c8b",
   "metadata": {},
   "outputs": [],
   "source": []
  },
  {
   "cell_type": "markdown",
   "id": "54a0ed26",
   "metadata": {},
   "source": [
    "### Loss Value of LSTM"
   ]
  },
  {
   "cell_type": "code",
   "execution_count": 10,
   "id": "c53cc9be",
   "metadata": {},
   "outputs": [
    {
     "data": {
      "image/png": "[encoded data removed]",
      "text/plain": [
       "<Figure size 900x400 with 1 Axes>"
      ]
     },
     "metadata": {
      "image/png": {
       "height": 392,
       "width": 782
      }
     },
     "output_type": "display_data"
    }
   ],
   "source": [
    "# plt.rcParams.update({'font.size': 15})\n",
    "plt.figure(figsize=(9, 4))\n",
    "plt.plot(history.history['loss'], 'orange', linewidth=2.5, label='LSTM loss')\n",
    "plt.plot(history.history['val_loss'], 'darkblue', linewidth=2.5, label='LSTM Val_loss')\n",
    "plt.title('loss value of LSTM')\n",
    "plt.ylabel('loss')\n",
    "plt.xlabel('No. epoch')\n",
    "plt.legend(loc=\"upper left\")\n",
    "plt.show()"
   ]
  },
  {
   "cell_type": "markdown",
   "id": "fe8c61af",
   "metadata": {},
   "source": [
    "### Relationship Between Predicted Values & True Values "
   ]
  },
  {
   "cell_type": "code",
   "execution_count": 11,
   "id": "dc13664a",
   "metadata": {},
   "outputs": [
    {
     "name": "stdout",
     "output_type": "stream",
     "text": [
      "(227565, 1)\n"
     ]
    },
    {
     "ename": "NameError",
     "evalue": "name 'Y_pred' is not defined",
     "output_type": "error",
     "traceback": [
      "\u001b[0;31m---------------------------------------------------------------------------\u001b[0m",
      "\u001b[0;31mNameError\u001b[0m                                 Traceback (most recent call last)",
      "Input \u001b[0;32mIn [11]\u001b[0m, in \u001b[0;36m<cell line: 2>\u001b[0;34m()\u001b[0m\n\u001b[1;32m      1\u001b[0m \u001b[38;5;28mprint\u001b[39m(Y_train\u001b[38;5;241m.\u001b[39mshape)\n\u001b[0;32m----> 2\u001b[0m \u001b[38;5;28mprint\u001b[39m(\u001b[43mY_pred\u001b[49m)\n\u001b[1;32m      3\u001b[0m \u001b[38;5;28mprint\u001b[39m(data_clean\u001b[38;5;241m.\u001b[39matm_pco2_uatm\u001b[38;5;241m.\u001b[39mvalues\u001b[38;5;241m.\u001b[39mshape)\n",
      "\u001b[0;31mNameError\u001b[0m: name 'Y_pred' is not defined"
     ]
    }
   ],
   "source": [
    "print(Y_train.shape)\n",
    "print(Y_pred)\n",
    "print(data_clean.atm_pco2_uatm.values.shape)"
   ]
  },
  {
   "cell_type": "markdown",
   "id": "b1e23328",
   "metadata": {},
   "source": [
    "### Y_train vs. Y_pred_train"
   ]
  },
  {
   "cell_type": "code",
   "execution_count": null,
   "id": "7a9ec1f4",
   "metadata": {},
   "outputs": [],
   "source": [
    "Y_pred_train = model.predict(X_train)"
   ]
  },
  {
   "cell_type": "code",
   "execution_count": null,
   "id": "f68762c6",
   "metadata": {},
   "outputs": [],
   "source": [
    "plt.figure(figsize=(9, 4))\n",
    "# plt.plot(Y_pred[:,1], label='q_predicted')\n",
    "# plt.plot(Y_train[:,1], label='q')\n",
    "plt.plot(Y_train, 'orange', label='Training data')\n",
    "plt.plot(Y_pred_train, 'darkblue', label='Predicted data')\n",
    "# plt.plot(data_clean.atm_pco2_uatm.values, 'r--', label='pd data')\n",
    "\n",
    "# plt.plot(Y_test, 'r--', linewidth=2.5, label='Test data')\n",
    "plt.title(\"pCO2 Value\")\n",
    "plt.legend()\n",
    "plt.show()"
   ]
  },
  {
   "cell_type": "markdown",
   "id": "0c715479",
   "metadata": {},
   "source": [
    "### Y_test vs. Y_pred_test"
   ]
  },
  {
   "cell_type": "code",
   "execution_count": null,
   "id": "1485d7e8",
   "metadata": {},
   "outputs": [],
   "source": [
    "Y_pred_test = model.predict(X_test)"
   ]
  },
  {
   "cell_type": "code",
   "execution_count": null,
   "id": "c2ecad09",
   "metadata": {},
   "outputs": [],
   "source": [
    "plt.figure(figsize=(10, 6))\n",
    "# plt.plot(Y_pred[:,1], label='q_predicted')\n",
    "# plt.plot(Y_train[:,1], label='q')\n",
    "plt.plot(Y_test, 'orange', label='Testing data')\n",
    "plt.plot(Y_pred_test, 'darkblue', label='Predicted data')\n",
    "# plt.plot(data_pd.atm_pco2_uatm.values[:2000], 'r--', label='pd data')\n",
    "\n",
    "# plt.plot(Y_test, 'r--', linewidth=2.5, label='Test data')\n",
    "plt.title(\"pCO2 Value\")\n",
    "plt.legend()\n",
    "plt.show()"
   ]
  },
  {
   "cell_type": "code",
   "execution_count": null,
   "id": "65f59f14",
   "metadata": {},
   "outputs": [],
   "source": [
    "Y_pred"
   ]
  },
  {
   "cell_type": "code",
   "execution_count": null,
   "id": "27881169",
   "metadata": {},
   "outputs": [],
   "source": []
  },
  {
   "cell_type": "code",
   "execution_count": null,
   "id": "cda03363",
   "metadata": {},
   "outputs": [],
   "source": [
    "plt.figure(figsize=(10, 6))\n",
    "#plt.plot(Y_pred, label='q_predicted')\n",
    "#plt.plot(Y_train, label='q')\n",
    "plt.plot(Y_test[:2000], 'orange', linewidth=2.5, label='Test data')\n",
    "plt.plot(Y_pred[:2000], 'darkblue', label='Predicted data')\n",
    "plt.title(\"pCO2 Value\")\n",
    "plt.legend()\n",
    "plt.show()"
   ]
  },
  {
   "cell_type": "code",
   "execution_count": null,
   "id": "1f309607",
   "metadata": {},
   "outputs": [],
   "source": []
  },
  {
   "cell_type": "code",
   "execution_count": null,
   "id": "c2da28f5",
   "metadata": {},
   "outputs": [],
   "source": []
  },
  {
   "cell_type": "code",
   "execution_count": null,
   "id": "dfd3243b",
   "metadata": {},
   "outputs": [],
   "source": []
  },
  {
   "cell_type": "code",
   "execution_count": null,
   "id": "70358963",
   "metadata": {},
   "outputs": [],
   "source": []
  },
  {
   "cell_type": "code",
   "execution_count": null,
   "id": "afbe921d",
   "metadata": {},
   "outputs": [],
   "source": []
  }
 ],
 "metadata": {
  "kernelspec": {
   "display_name": "keras",
   "language": "python",
   "name": "keras"
  },
  "language_info": {
   "codemirror_mode": {
    "name": "ipython",
    "version": 3
   },
   "file_extension": ".py",
   "mimetype": "text/x-python",
   "name": "python",
   "nbconvert_exporter": "python",
   "pygments_lexer": "ipython3",
   "version": "3.10.6"
  }
 },
 "nbformat": 4,
 "nbformat_minor": 5
}
